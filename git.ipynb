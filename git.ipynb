{
 "cells": [
  {
   "cell_type": "code",
   "execution_count": null,
   "metadata": {},
   "outputs": [],
   "source": [
    "!git pull origin Banglaocr\n",
    "\n"
   ]
  },
  {
   "cell_type": "code",
   "execution_count": 2,
   "metadata": {},
   "outputs": [
    {
     "name": "stderr",
     "output_type": "stream",
     "text": [
      "Switched to a new branch 'rifatul_islam_v5_refresh'\n"
     ]
    }
   ],
   "source": [
    "!git checkout -b rifatul_islam_v5_refresh"
   ]
  },
  {
   "cell_type": "code",
   "execution_count": 1,
   "metadata": {},
   "outputs": [
    {
     "name": "stderr",
     "output_type": "stream",
     "text": [
      "warning: in the working copy of 'git.ipynb', LF will be replaced by CRLF the next time Git touches it\n",
      "warning: in the working copy of 'leatherfreek/emails/20240626-195621-2168331732544.log', LF will be replaced by CRLF the next time Git touches it\n",
      "warning: in the working copy of 'leatherfreek/leather_web/templates/account/account_inactive.html', LF will be replaced by CRLF the next time Git touches it\n",
      "warning: in the working copy of 'leatherfreek/leather_web/templates/account/base_entrance.html', LF will be replaced by CRLF the next time Git touches it\n",
      "warning: in the working copy of 'leatherfreek/leather_web/templates/account/base_manage.html', LF will be replaced by CRLF the next time Git touches it\n",
      "warning: in the working copy of 'leatherfreek/leather_web/templates/account/base_manage_email.html', LF will be replaced by CRLF the next time Git touches it\n",
      "warning: in the working copy of 'leatherfreek/leather_web/templates/account/base_manage_password.html', LF will be replaced by CRLF the next time Git touches it\n",
      "warning: in the working copy of 'leatherfreek/leather_web/templates/account/base_reauthenticate.html', LF will be replaced by CRLF the next time Git touches it\n",
      "warning: in the working copy of 'leatherfreek/leather_web/templates/account/confirm_login_code.html', LF will be replaced by CRLF the next time Git touches it\n",
      "warning: in the working copy of 'leatherfreek/leather_web/templates/account/email.html', LF will be replaced by CRLF the next time Git touches it\n",
      "warning: in the working copy of 'leatherfreek/leather_web/templates/account/email/account_already_exists_message.txt', LF will be replaced by CRLF the next time Git touches it\n",
      "warning: in the working copy of 'leatherfreek/leather_web/templates/account/email/account_already_exists_subject.txt', LF will be replaced by CRLF the next time Git touches it\n",
      "warning: in the working copy of 'leatherfreek/leather_web/templates/account/email/base_message.txt', LF will be replaced by CRLF the next time Git touches it\n",
      "warning: in the working copy of 'leatherfreek/leather_web/templates/account/email/base_notification.txt', LF will be replaced by CRLF the next time Git touches it\n",
      "warning: in the working copy of 'leatherfreek/leather_web/templates/account/email/email_changed_message.txt', LF will be replaced by CRLF the next time Git touches it\n",
      "warning: in the working copy of 'leatherfreek/leather_web/templates/account/email/email_changed_subject.txt', LF will be replaced by CRLF the next time Git touches it\n",
      "warning: in the working copy of 'leatherfreek/leather_web/templates/account/email/email_confirm_message.txt', LF will be replaced by CRLF the next time Git touches it\n",
      "warning: in the working copy of 'leatherfreek/leather_web/templates/account/email/email_confirm_subject.txt', LF will be replaced by CRLF the next time Git touches it\n",
      "warning: in the working copy of 'leatherfreek/leather_web/templates/account/email/email_confirmation_message.txt', LF will be replaced by CRLF the next time Git touches it\n",
      "warning: in the working copy of 'leatherfreek/leather_web/templates/account/email/email_confirmation_signup_message.txt', LF will be replaced by CRLF the next time Git touches it\n",
      "warning: in the working copy of 'leatherfreek/leather_web/templates/account/email/email_confirmation_signup_subject.txt', LF will be replaced by CRLF the next time Git touches it\n",
      "warning: in the working copy of 'leatherfreek/leather_web/templates/account/email/email_confirmation_subject.txt', LF will be replaced by CRLF the next time Git touches it\n",
      "warning: in the working copy of 'leatherfreek/leather_web/templates/account/email/email_deleted_message.txt', LF will be replaced by CRLF the next time Git touches it\n",
      "warning: in the working copy of 'leatherfreek/leather_web/templates/account/email/email_deleted_subject.txt', LF will be replaced by CRLF the next time Git touches it\n",
      "warning: in the working copy of 'leatherfreek/leather_web/templates/account/email/login_code_message.txt', LF will be replaced by CRLF the next time Git touches it\n",
      "warning: in the working copy of 'leatherfreek/leather_web/templates/account/email/login_code_subject.txt', LF will be replaced by CRLF the next time Git touches it\n",
      "warning: in the working copy of 'leatherfreek/leather_web/templates/account/email/password_changed_message.txt', LF will be replaced by CRLF the next time Git touches it\n",
      "warning: in the working copy of 'leatherfreek/leather_web/templates/account/email/password_changed_subject.txt', LF will be replaced by CRLF the next time Git touches it\n",
      "warning: in the working copy of 'leatherfreek/leather_web/templates/account/email/password_reset_key_message.txt', LF will be replaced by CRLF the next time Git touches it\n",
      "warning: in the working copy of 'leatherfreek/leather_web/templates/account/email/password_reset_key_subject.txt', LF will be replaced by CRLF the next time Git touches it\n",
      "warning: in the working copy of 'leatherfreek/leather_web/templates/account/email/password_reset_message.txt', LF will be replaced by CRLF the next time Git touches it\n",
      "warning: in the working copy of 'leatherfreek/leather_web/templates/account/email/password_reset_subject.txt', LF will be replaced by CRLF the next time Git touches it\n",
      "warning: in the working copy of 'leatherfreek/leather_web/templates/account/email/password_set_message.txt', LF will be replaced by CRLF the next time Git touches it\n",
      "warning: in the working copy of 'leatherfreek/leather_web/templates/account/email/password_set_subject.txt', LF will be replaced by CRLF the next time Git touches it\n",
      "warning: in the working copy of 'leatherfreek/leather_web/templates/account/email/unknown_account_message.txt', LF will be replaced by CRLF the next time Git touches it\n",
      "warning: in the working copy of 'leatherfreek/leather_web/templates/account/email/unknown_account_subject.txt', LF will be replaced by CRLF the next time Git touches it\n",
      "warning: in the working copy of 'leatherfreek/leather_web/templates/account/email_change.html', LF will be replaced by CRLF the next time Git touches it\n",
      "warning: in the working copy of 'leatherfreek/leather_web/templates/account/email_confirm.html', LF will be replaced by CRLF the next time Git touches it\n",
      "warning: in the working copy of 'leatherfreek/leather_web/templates/account/login.html', LF will be replaced by CRLF the next time Git touches it\n",
      "warning: in the working copy of 'leatherfreek/leather_web/templates/account/logout.html', LF will be replaced by CRLF the next time Git touches it\n",
      "warning: in the working copy of 'leatherfreek/leather_web/templates/account/messages/cannot_delete_primary_email.txt', LF will be replaced by CRLF the next time Git touches it\n",
      "warning: in the working copy of 'leatherfreek/leather_web/templates/account/messages/email_confirmation_failed.txt', LF will be replaced by CRLF the next time Git touches it\n",
      "warning: in the working copy of 'leatherfreek/leather_web/templates/account/messages/email_confirmation_sent.txt', LF will be replaced by CRLF the next time Git touches it\n",
      "warning: in the working copy of 'leatherfreek/leather_web/templates/account/messages/email_confirmed.txt', LF will be replaced by CRLF the next time Git touches it\n",
      "warning: in the working copy of 'leatherfreek/leather_web/templates/account/messages/email_deleted.txt', LF will be replaced by CRLF the next time Git touches it\n",
      "warning: in the working copy of 'leatherfreek/leather_web/templates/account/messages/logged_in.txt', LF will be replaced by CRLF the next time Git touches it\n",
      "warning: in the working copy of 'leatherfreek/leather_web/templates/account/messages/logged_out.txt', LF will be replaced by CRLF the next time Git touches it\n",
      "warning: in the working copy of 'leatherfreek/leather_web/templates/account/messages/login_code_sent.txt', LF will be replaced by CRLF the next time Git touches it\n",
      "warning: in the working copy of 'leatherfreek/leather_web/templates/account/messages/password_changed.txt', LF will be replaced by CRLF the next time Git touches it\n",
      "warning: in the working copy of 'leatherfreek/leather_web/templates/account/messages/password_set.txt', LF will be replaced by CRLF the next time Git touches it\n",
      "warning: in the working copy of 'leatherfreek/leather_web/templates/account/messages/primary_email_set.txt', LF will be replaced by CRLF the next time Git touches it\n",
      "warning: in the working copy of 'leatherfreek/leather_web/templates/account/messages/unverified_primary_email.txt', LF will be replaced by CRLF the next time Git touches it\n",
      "warning: in the working copy of 'leatherfreek/leather_web/templates/account/password_change.html', LF will be replaced by CRLF the next time Git touches it\n",
      "warning: in the working copy of 'leatherfreek/leather_web/templates/account/password_reset.html', LF will be replaced by CRLF the next time Git touches it\n",
      "warning: in the working copy of 'leatherfreek/leather_web/templates/account/password_reset_done.html', LF will be replaced by CRLF the next time Git touches it\n",
      "warning: in the working copy of 'leatherfreek/leather_web/templates/account/password_reset_from_key.html', LF will be replaced by CRLF the next time Git touches it\n",
      "warning: in the working copy of 'leatherfreek/leather_web/templates/account/password_reset_from_key_done.html', LF will be replaced by CRLF the next time Git touches it\n",
      "warning: in the working copy of 'leatherfreek/leather_web/templates/account/password_set.html', LF will be replaced by CRLF the next time Git touches it\n",
      "warning: in the working copy of 'leatherfreek/leather_web/templates/account/reauthenticate.html', LF will be replaced by CRLF the next time Git touches it\n",
      "warning: in the working copy of 'leatherfreek/leather_web/templates/account/request_login_code.html', LF will be replaced by CRLF the next time Git touches it\n",
      "warning: in the working copy of 'leatherfreek/leather_web/templates/account/signup.html', LF will be replaced by CRLF the next time Git touches it\n",
      "warning: in the working copy of 'leatherfreek/leather_web/templates/account/signup_closed.html', LF will be replaced by CRLF the next time Git touches it\n",
      "warning: in the working copy of 'leatherfreek/leather_web/templates/account/snippets/already_logged_in.html', LF will be replaced by CRLF the next time Git touches it\n",
      "warning: in the working copy of 'leatherfreek/leather_web/templates/account/snippets/warn_no_email.html', LF will be replaced by CRLF the next time Git touches it\n",
      "warning: in the working copy of 'leatherfreek/leather_web/templates/account/verification_sent.html', LF will be replaced by CRLF the next time Git touches it\n",
      "warning: in the working copy of 'leatherfreek/leather_web/templates/account/verified_email_required.html', LF will be replaced by CRLF the next time Git touches it\n"
     ]
    },
    {
     "name": "stdout",
     "output_type": "stream",
     "text": [
      "[main 492e15f] 6th commit'\n",
      " 80 files changed, 1476 insertions(+), 73 deletions(-)\n",
      " create mode 100644 leatherfreek/emails/20240626-195621-2168331732544.log\n",
      " create mode 100644 leatherfreek/leather_web/templates/account/account_inactive.html\n",
      " create mode 100644 leatherfreek/leather_web/templates/account/base_entrance.html\n",
      " create mode 100644 leatherfreek/leather_web/templates/account/base_manage.html\n",
      " create mode 100644 leatherfreek/leather_web/templates/account/base_manage_email.html\n",
      " create mode 100644 leatherfreek/leather_web/templates/account/base_manage_password.html\n",
      " create mode 100644 leatherfreek/leather_web/templates/account/base_reauthenticate.html\n",
      " create mode 100644 leatherfreek/leather_web/templates/account/confirm_login_code.html\n",
      " create mode 100644 leatherfreek/leather_web/templates/account/email.html\n",
      " create mode 100644 leatherfreek/leather_web/templates/account/email/account_already_exists_message.txt\n",
      " create mode 100644 leatherfreek/leather_web/templates/account/email/account_already_exists_subject.txt\n",
      " create mode 100644 leatherfreek/leather_web/templates/account/email/base_message.txt\n",
      " create mode 100644 leatherfreek/leather_web/templates/account/email/base_notification.txt\n",
      " create mode 100644 leatherfreek/leather_web/templates/account/email/email_changed_message.txt\n",
      " create mode 100644 leatherfreek/leather_web/templates/account/email/email_changed_subject.txt\n",
      " create mode 100644 leatherfreek/leather_web/templates/account/email/email_confirm_message.txt\n",
      " create mode 100644 leatherfreek/leather_web/templates/account/email/email_confirm_subject.txt\n",
      " create mode 100644 leatherfreek/leather_web/templates/account/email/email_confirmation_message.txt\n",
      " create mode 100644 leatherfreek/leather_web/templates/account/email/email_confirmation_signup_message.txt\n",
      " create mode 100644 leatherfreek/leather_web/templates/account/email/email_confirmation_signup_subject.txt\n",
      " create mode 100644 leatherfreek/leather_web/templates/account/email/email_confirmation_subject.txt\n",
      " create mode 100644 leatherfreek/leather_web/templates/account/email/email_deleted_message.txt\n",
      " create mode 100644 leatherfreek/leather_web/templates/account/email/email_deleted_subject.txt\n",
      " create mode 100644 leatherfreek/leather_web/templates/account/email/login_code_message.txt\n",
      " create mode 100644 leatherfreek/leather_web/templates/account/email/login_code_subject.txt\n",
      " create mode 100644 leatherfreek/leather_web/templates/account/email/password_changed_message.txt\n",
      " create mode 100644 leatherfreek/leather_web/templates/account/email/password_changed_subject.txt\n",
      " create mode 100644 leatherfreek/leather_web/templates/account/email/password_reset_key_message.txt\n",
      " create mode 100644 leatherfreek/leather_web/templates/account/email/password_reset_key_subject.txt\n",
      " create mode 100644 leatherfreek/leather_web/templates/account/email/password_reset_message.txt\n",
      " create mode 100644 leatherfreek/leather_web/templates/account/email/password_reset_subject.txt\n",
      " create mode 100644 leatherfreek/leather_web/templates/account/email/password_set_message.txt\n",
      " create mode 100644 leatherfreek/leather_web/templates/account/email/password_set_subject.txt\n",
      " create mode 100644 leatherfreek/leather_web/templates/account/email/unknown_account_message.txt\n",
      " create mode 100644 leatherfreek/leather_web/templates/account/email/unknown_account_subject.txt\n",
      " create mode 100644 leatherfreek/leather_web/templates/account/email_change.html\n",
      " create mode 100644 leatherfreek/leather_web/templates/account/email_confirm.html\n",
      " create mode 100644 leatherfreek/leather_web/templates/account/login.html\n",
      " create mode 100644 leatherfreek/leather_web/templates/account/logout.html\n",
      " create mode 100644 leatherfreek/leather_web/templates/account/messages/cannot_delete_primary_email.txt\n",
      " create mode 100644 leatherfreek/leather_web/templates/account/messages/email_confirmation_failed.txt\n",
      " create mode 100644 leatherfreek/leather_web/templates/account/messages/email_confirmation_sent.txt\n",
      " create mode 100644 leatherfreek/leather_web/templates/account/messages/email_confirmed.txt\n",
      " create mode 100644 leatherfreek/leather_web/templates/account/messages/email_deleted.txt\n",
      " create mode 100644 leatherfreek/leather_web/templates/account/messages/logged_in.txt\n",
      " create mode 100644 leatherfreek/leather_web/templates/account/messages/logged_out.txt\n",
      " create mode 100644 leatherfreek/leather_web/templates/account/messages/login_code_sent.txt\n",
      " create mode 100644 leatherfreek/leather_web/templates/account/messages/password_changed.txt\n",
      " create mode 100644 leatherfreek/leather_web/templates/account/messages/password_set.txt\n",
      " create mode 100644 leatherfreek/leather_web/templates/account/messages/primary_email_set.txt\n",
      " create mode 100644 leatherfreek/leather_web/templates/account/messages/unverified_primary_email.txt\n",
      " create mode 100644 leatherfreek/leather_web/templates/account/password_change.html\n",
      " create mode 100644 leatherfreek/leather_web/templates/account/password_reset.html\n",
      " create mode 100644 leatherfreek/leather_web/templates/account/password_reset_done.html\n",
      " create mode 100644 leatherfreek/leather_web/templates/account/password_reset_from_key.html\n",
      " create mode 100644 leatherfreek/leather_web/templates/account/password_reset_from_key_done.html\n",
      " create mode 100644 leatherfreek/leather_web/templates/account/password_set.html\n",
      " create mode 100644 leatherfreek/leather_web/templates/account/reauthenticate.html\n",
      " create mode 100644 leatherfreek/leather_web/templates/account/request_login_code.html\n",
      " create mode 100644 leatherfreek/leather_web/templates/account/signup.html\n",
      " create mode 100644 leatherfreek/leather_web/templates/account/signup_closed.html\n",
      " create mode 100644 leatherfreek/leather_web/templates/account/snippets/already_logged_in.html\n",
      " create mode 100644 leatherfreek/leather_web/templates/account/snippets/warn_no_email.html\n",
      " create mode 100644 leatherfreek/leather_web/templates/account/verification_sent.html\n",
      " create mode 100644 leatherfreek/leather_web/templates/account/verified_email_required.html\n",
      " create mode 100644 leatherfreek/leather_web/templates/events/backup/product_card.html\n",
      " create mode 100644 leatherfreek/leather_web/templates/events/user_profile.html\n",
      " create mode 100644 leatherfreek/leather_web/templates/events/user_signup.html\n"
     ]
    },
    {
     "name": "stderr",
     "output_type": "stream",
     "text": [
      "To https://github.com/Nirab123456/leatherfreek.git\n",
      "   563aa8a..492e15f  main -> main\n"
     ]
    }
   ],
   "source": [
    "!git add .\n",
    "!git commit -m \"7th commit'\n",
    "!git push "
   ]
  },
  {
   "cell_type": "code",
   "execution_count": 1,
   "metadata": {},
   "outputs": [
    {
     "name": "stderr",
     "output_type": "stream",
     "text": [
      "warning: in the working copy of 'git.ipynb', LF will be replaced by CRLF the next time Git touches it\n"
     ]
    },
    {
     "name": "stdout",
     "output_type": "stream",
     "text": [
      "[rifatul_islam_v5_refresh 64ad665] presciption classification has been also shifted now i will restracture the full project in another branch\n",
      " 2 files changed, 42 insertions(+), 11 deletions(-)\n"
     ]
    },
    {
     "name": "stderr",
     "output_type": "stream",
     "text": [
      "remote: \n",
      "remote: GitHub found 25 vulnerabilities on Nirab123456/learn_django's default branch (6 critical, 13 high, 5 moderate, 1 low). To find out more, visit:        \n",
      "remote:      https://github.com/Nirab123456/learn_django/security/dependabot        \n",
      "remote: \n",
      "To https://github.com/Nirab123456/learn_django.git\n",
      "   7106a27..64ad665  rifatul_islam_v5_refresh -> rifatul_islam_v5_refresh\n"
     ]
    }
   ],
   "source": [
    "!git add .\n",
    "!git commit -m \"presciption classification has been also shifted now i will restracture the full project in another branch\"\n",
    "!git push origin rifatul_islam_v5_refresh"
   ]
  },
  {
   "cell_type": "code",
   "execution_count": null,
   "metadata": {},
   "outputs": [],
   "source": [
    "!git status"
   ]
  },
  {
   "cell_type": "code",
   "execution_count": null,
   "metadata": {},
   "outputs": [],
   "source": [
    "!git add ."
   ]
  },
  {
   "cell_type": "code",
   "execution_count": null,
   "metadata": {},
   "outputs": [],
   "source": [
    "!git commit -m \" \""
   ]
  },
  {
   "cell_type": "code",
   "execution_count": null,
   "metadata": {},
   "outputs": [],
   "source": [
    "\n",
    "!git push origin Banglaocr"
   ]
  },
  {
   "cell_type": "code",
   "execution_count": null,
   "metadata": {},
   "outputs": [],
   "source": [
    "!git checkout Banglaocr_with_bootstrap5\n"
   ]
  },
  {
   "cell_type": "code",
   "execution_count": null,
   "metadata": {},
   "outputs": [],
   "source": [
    "!git push origin secondary\n"
   ]
  },
  {
   "cell_type": "code",
   "execution_count": null,
   "metadata": {},
   "outputs": [],
   "source": [
    "!git status"
   ]
  }
 ],
 "metadata": {
  "kernelspec": {
   "display_name": "tf",
   "language": "python",
   "name": "python3"
  },
  "language_info": {
   "codemirror_mode": {
    "name": "ipython",
    "version": 3
   },
   "file_extension": ".py",
   "mimetype": "text/x-python",
   "name": "python",
   "nbconvert_exporter": "python",
   "pygments_lexer": "ipython3",
   "version": "3.9.18"
  },
  "orig_nbformat": 4
 },
 "nbformat": 4,
 "nbformat_minor": 2
}
